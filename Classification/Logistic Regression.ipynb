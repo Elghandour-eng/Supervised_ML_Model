{
 "cells": [
  {
   "cell_type": "code",
   "execution_count": 1,
   "metadata": {},
   "outputs": [],
   "source": [
    "import numpy as np # linear algebra\n",
    "import matplotlib.pyplot as plt # for plotting"
   ]
  },
  {
   "attachments": {},
   "cell_type": "markdown",
   "metadata": {},
   "source": [
    "## `Binary Logistic Regression` "
   ]
  },
  {
   "attachments": {},
   "cell_type": "markdown",
   "metadata": {},
   "source": [
    "**` Logistic Regression `** is a popular classification algorithm that is used to model <br>\n",
    "the relationship between a [dependent binary variable](https://www.scribbr.com/methodology/independent-and-dependent-variables/)\n",
    ",<br> represented by the outcome variable Y, and one or more [independent variables](https://www.scribbr.com/methodology/independent-and-dependent-variables/),<br> represented by the predictor variables X. "
   ]
  },
  {
   "attachments": {},
   "cell_type": "markdown",
   "metadata": {},
   "source": [
    "![dependent binary variable](https://www.voxco.com/wp-content/uploads/2021/08/Independent-Variables-and-Dependent-Variables.jpg)"
   ]
  },
  {
   "attachments": {},
   "cell_type": "markdown",
   "metadata": {},
   "source": [
    "## `Logistic Regression Formula` "
   ]
  },
  {
   "attachments": {},
   "cell_type": "markdown",
   "metadata": {},
   "source": [
    "![Logistic Regression Formula](data:image/png;base64,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)\n",
    "\n",
    "where:\n",
    "\n",
    "- `p` is the probability of the dependent variable Y being equal to 1 given the predictor variables X.\n",
    "- `z` is the linear combination of the predictor variables X and their respective coefficients β.\n",
    "- `e` is the mathematical constant e, also known as Euler's number, approximately equal to 2.71828."
   ]
  },
  {
   "attachments": {},
   "cell_type": "markdown",
   "metadata": {},
   "source": [
    "### `Logistic Regression Implementation` "
   ]
  },
  {
   "attachments": {},
   "cell_type": "markdown",
   "metadata": {},
   "source": [
    " - Intilaze Weidgts"
   ]
  },
  {
   "cell_type": "code",
   "execution_count": 2,
   "metadata": {},
   "outputs": [],
   "source": [
    "def intialize_weights(n):\n",
    "    \"\"\"\"\n",
    "    arguments:\n",
    "    n -- size of the w vector we want (or number of parameters in this case)\n",
    "    returns:\n",
    "    w -- initialized vector of shape (n,1) \n",
    "    \"\"\"\n",
    "    w = np.zeros((n+1,1)) # n+1 because of bias\n",
    "    return w"
   ]
  },
  {
   "attachments": {},
   "cell_type": "markdown",
   "metadata": {},
   "source": [
    " - Sigmoid Function"
   ]
  },
  {
   "attachments": {},
   "cell_type": "markdown",
   "metadata": {},
   "source": [
    "- ![Sigmoid Function](https://siebelm.github.io/GIF/logsigmoid.gif)"
   ]
  },
  {
   "cell_type": "code",
   "execution_count": 3,
   "metadata": {},
   "outputs": [],
   "source": [
    "def sigmoid(z):\n",
    "    return 1/ (1 + np.exp(-z))"
   ]
  },
  {
   "attachments": {},
   "cell_type": "markdown",
   "metadata": {},
   "source": [
    " - Cost  Function"
   ]
  },
  {
   "cell_type": "code",
   "execution_count": 4,
   "metadata": {},
   "outputs": [],
   "source": [
    "# Cost Function\n",
    "def cost_function(X, y, w):\n",
    "    \"\"\"\"\n",
    "    args:\n",
    "        X: input features\n",
    "        y: output\n",
    "        w: weights\n",
    "    return: cost\n",
    "    cost = (-1/m) * (np.dot(y.T, np.log(y_pred)) + np.dot((1-y).T, np.log(1-y_pred)))\n",
    "    \n",
    "    \"\"\"\n",
    "    m = X.shape[0]\n",
    "    y_pred = sigmoid(np.dot(X,w))\n",
    "    cost = (-1/m) * (np.dot(y.T, np.log(y_pred)) + np.dot((1-y).T, np.log(1-y_pred)))\n",
    "    return cost"
   ]
  },
  {
   "attachments": {},
   "cell_type": "markdown",
   "metadata": {},
   "source": [
    "- Implementation"
   ]
  },
  {
   "cell_type": "code",
   "execution_count": 5,
   "metadata": {},
   "outputs": [],
   "source": [
    "def simple_logistic_regression(X,y,w,num_iter, alpha):\n",
    "    \"\"\"\"\n",
    "    args:\n",
    "        X: input features\n",
    "        y: output\n",
    "        w: weights\n",
    "        num_iter: number of iterations\n",
    "        alpha: learning rate\n",
    "    return: weights, cost_list, y_pred\n",
    "    \"\"\"\n",
    "    \n",
    "    \n",
    "    m = X.shape[0] # number of training examples\n",
    "    cost_list = [] # to store the cost after each iteration\n",
    "    X = np.hstack((np.ones((m,1)), X)) # adding bias\n",
    "    \n",
    "    for i in range(num_iter):\n",
    "        z = np.dot(X,w) # linear combination\n",
    "        h = sigmoid(z) # prediction\n",
    "        J = cost_function(X,y,w) # cost\n",
    "        cost_list.append(J)\n",
    "        \n",
    "        # gradient descent\n",
    "        w = w - (alpha/m) * np.dot(X.T, (h-y))\n",
    "        \n",
    "        # get threshold\n",
    "        \n",
    "        \n",
    "        if i != 0:\n",
    "            if abs(cost_list[i] - cost_list[i-1]) < 0.0001:\n",
    "                break\n",
    "\n",
    "             \n",
    "    \n",
    "    return w, cost_list , h         \n",
    "    \n",
    "    "
   ]
  },
  {
   "attachments": {},
   "cell_type": "markdown",
   "metadata": {},
   "source": [
    "### `Logistic Regression Exaple` "
   ]
  },
  {
   "cell_type": "code",
   "execution_count": 6,
   "metadata": {},
   "outputs": [
    {
     "data": {
      "text/plain": [
       "Text(0.5, 1.0, 'Logistic Regression Distribution')"
      ]
     },
     "execution_count": 6,
     "metadata": {},
     "output_type": "execute_result"
    },
    {
     "data": {
      "image/png": "[encoded data removed]",
      "text/plain": [
       "<Figure size 640x480 with 1 Axes>"
      ]
     },
     "metadata": {},
     "output_type": "display_data"
    }
   ],
   "source": [
    "# Example of Logistic Regression\n",
    "# suppose we have a dataset with 2 features and 1 output\n",
    "# we want to predict if the output is 0 or 1\n",
    "# X is the input features with 2 features and non linearly separable\n",
    "X = np.array([[1,2],[2,3],[3,1],[4,3],[5,3],[1,7],[2,8],[3,5],[4,9],[5,6]])\n",
    "y = np.array([[0],[0],[0],[0],[0],[1],[1],[1],[1],[1]])\n",
    "\n",
    "plt.scatter(X[:,0], X[:,1], c=y, cmap='rainbow')\n",
    "plt.title('Logistic Regression Distribution')\n"
   ]
  },
  {
   "cell_type": "code",
   "execution_count": 7,
   "metadata": {},
   "outputs": [
    {
     "name": "stdout",
     "output_type": "stream",
     "text": [
      "Weights: \n",
      " [[-1.9531778 ]\n",
      " [-0.94817592]\n",
      " [ 1.24844102]]\n",
      "*********************************\n",
      "Cost: \n",
      " [[0.195402]]\n",
      "*********************************\n",
      "Predictions:  \n",
      " [[0.40045134]\n",
      " [0.47409677]\n",
      " [0.02797901]\n",
      " [0.11920168]\n",
      " [0.04982332]\n",
      " [0.99708967]\n",
      " [0.99784209]\n",
      " [0.80910504]\n",
      " [0.99588167]\n",
      " [0.68910352]]\n"
     ]
    }
   ],
   "source": [
    "def experiment():\n",
    "    w = intialize_weights(X.shape[1])\n",
    "    w, cost_list, y_pred = simple_logistic_regression(X,y,w,1000,0.03)\n",
    "    print(\"Weights: \\n\", w)\n",
    "    print(\"*********************************\")\n",
    "    print(\"Cost: \\n\", cost_list[-1])\n",
    "    print(\"*********************************\")\n",
    "    print(\"Predictions:  \\n\", y_pred)\n",
    "    return w, cost_list, y_pred\n",
    "\n",
    "    \n",
    "w , cost_list, y_pred = experiment()\n"
   ]
  },
  {
   "cell_type": "code",
   "execution_count": 8,
   "metadata": {},
   "outputs": [
    {
     "data": {
      "image/png": "[encoded data removed]",
      "text/plain": [
       "<Figure size 640x480 with 1 Axes>"
      ]
     },
     "metadata": {},
     "output_type": "display_data"
    }
   ],
   "source": [
    "cost_list = np.squeeze(cost_list) # to remove extra dimensions\n",
    "plt.plot(cost_list)\n",
    "plt.ylabel('cost')\n",
    "plt.xlabel('iterations (per hundreds)')\n",
    "plt.title(\"Learning rate =\" + str(0.03))\n",
    "plt.grid()\n",
    "plt.show()"
   ]
  },
  {
   "cell_type": "code",
   "execution_count": 16,
   "metadata": {},
   "outputs": [
    {
     "data": {
      "text/plain": [
       "array([[1],\n",
       "       [1],\n",
       "       [0],\n",
       "       [1],\n",
       "       [0],\n",
       "       [1],\n",
       "       [1],\n",
       "       [1],\n",
       "       [1],\n",
       "       [1]])"
      ]
     },
     "execution_count": 16,
     "metadata": {},
     "output_type": "execute_result"
    }
   ],
   "source": [
    "np.where(y_pred > 0.1, 1, 0)"
   ]
  },
  {
   "cell_type": "code",
   "execution_count": 20,
   "metadata": {},
   "outputs": [
    {
     "name": "stdout",
     "output_type": "stream",
     "text": [
      "Best Threshold:  0.5\n",
      "Best Accuracy:  1.0\n"
     ]
    }
   ],
   "source": [
    "def get_best_threshold(y, y_out):\n",
    "    \"\"\"\"\n",
    "    define the best threshold for the model\n",
    "    by calculating the accuracy for each threshold\n",
    "    and return the best threshold\n",
    "    \n",
    "    args:\n",
    "\n",
    "        y: output\n",
    "        y_out: output from the model\n",
    "    return: best threshold, best accuracy\n",
    "    \n",
    "    \"\"\"\n",
    "    best_threshold = 0\n",
    "    best_accuracy = 0\n",
    "    for threshold in np.arange(0,1,0.1):\n",
    "        temp =  np.where(y_out > threshold, 1, 0)\n",
    "        accuracy = np.sum(temp == y) / len(y)    \n",
    "        if accuracy > best_accuracy:\n",
    "            best_accuracy = accuracy\n",
    "            best_threshold = threshold\n",
    "    return best_threshold ,best_accuracy\n",
    "\n",
    "threshold = get_best_threshold(y, y_pred)\n",
    "print(\"Best Threshold: \", threshold[0])\n",
    "print(\"Best Accuracy: \", threshold[1])"
   ]
  },
  {
   "attachments": {},
   "cell_type": "markdown",
   "metadata": {},
   "source": [
    "### `Refernces`\n",
    "\n",
    "- [Logistic Regression: Calculating a Probability](https://towardsdatascience.com/logistic-regression-explained-from-scratch-visually-mathematically-and-programmatically-eb83520fdf9a)\n",
    "\n",
    "- [Logistic Regression Explained from Scratch ](https://towardsdatascience.com/logistic-regression-explained-from-scratch-visually-mathematically-and-programmatically-eb83520fdf9a)"
   ]
  }
 ],
 "metadata": {
  "kernelspec": {
   "display_name": "base",
   "language": "python",
   "name": "python3"
  },
  "language_info": {
   "codemirror_mode": {
    "name": "ipython",
    "version": 3
   },
   "file_extension": ".py",
   "mimetype": "text/x-python",
   "name": "python",
   "nbconvert_exporter": "python",
   "pygments_lexer": "ipython3",
   "version": "3.8.8"
  },
  "orig_nbformat": 4
 },
 "nbformat": 4,
 "nbformat_minor": 2
}
