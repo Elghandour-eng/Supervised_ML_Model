{
 "cells": [
  {
   "cell_type": "code",
   "execution_count": 259,
   "metadata": {},
   "outputs": [],
   "source": [
    "import numpy as np # linear algebra\n",
    "import pandas as pd # data processing, CSV file I/O (e.g. pd.read_csv)\n",
    "import matplotlib.pyplot as plt # for plotting"
   ]
  },
  {
   "attachments": {},
   "cell_type": "markdown",
   "metadata": {},
   "source": [
    "## `Simple Naive Bayes Classifier` "
   ]
  },
  {
   "attachments": {},
   "cell_type": "markdown",
   "metadata": {},
   "source": [
    "`Naive Bayes` is a probabilistic machine learning algorithm used for classification tasks.<br>\n",
    " It is based on `Bayes` theorem,<br> which is a mathematical formula used to calculate the probability<br> \n",
    " of a hypothesis (or event) given some observed evidence."
   ]
  },
  {
   "attachments": {},
   "cell_type": "markdown",
   "metadata": {},
   "source": [
    "![](https://insightimi.files.wordpress.com/2020/04/unnamed-1.png)"
   ]
  },
  {
   "attachments": {},
   "cell_type": "markdown",
   "metadata": {},
   "source": [
    "### ` - Bayes Theorm `"
   ]
  },
  {
   "attachments": {},
   "cell_type": "markdown",
   "metadata": {},
   "source": [
    "P(A|B) = P(B|A) * P(A) / P(B)\n",
    "\n",
    "where:\n",
    "\n",
    "- P(A|B) is the probability of hypothesis A given the observed evidence B (also known as the posterior probability).<br>\n",
    "- P(B|A) is the probability of observing evidence B given the hypothesis A (also known as the likelihood).<br>\n",
    "- P(A) is the prior probability of hypothesis A before observing evidence B.<br>\n",
    "- P(B) is the probability of observing evidence B.<br>"
   ]
  },
  {
   "cell_type": "code",
   "execution_count": 260,
   "metadata": {},
   "outputs": [],
   "source": [
    "'''Bayes Theorem'''\n",
    "# P(A|B) = P(B|A) * P(A) / P(B)\n",
    "def bayes_theorm(P_A , P_B_given_A ,P_B):\n",
    "    # P(B) = P(B|A) * P(A) + P(B|not A) * P(not A)\n",
    "    return (P_B_given_A * P_A) / P_B\n"
   ]
  },
  {
   "attachments": {},
   "cell_type": "markdown",
   "metadata": {},
   "source": [
    "### `Naive Bayes`"
   ]
  },
  {
   "cell_type": "code",
   "execution_count": 261,
   "metadata": {},
   "outputs": [],
   "source": [
    "'''Naive Bayes Classifier'''\n",
    "def prior_prob(y_train, label):\n",
    "    # P(y = label)\n",
    "    total_examples = y_train.shape[0]\n",
    "    class_examples = np.sum(y_train == label)\n",
    "    return class_examples / float(total_examples)\n",
    "\n",
    "def cond_prop(x_train , y_train , features_indecies\n",
    "              , feature_names):\n",
    "    # P(Xi = feature_value | y = label)\n",
    "    cond_prop = {}\n",
    "    # Classes\n",
    "    classes = set(y_train)\n",
    "    \n",
    "    for cls in classes:\n",
    "        print(cls)\n",
    "        cls_show = (y_train == cls)\n",
    "        print(cls_show)\n",
    "        for feature in features_indecies:\n",
    "            cond_prop[(feature , cls)] = x_train[cls_show , feature].mean()            \n",
    "    return cond_prop"
   ]
  },
  {
   "attachments": {},
   "cell_type": "markdown",
   "metadata": {},
   "source": [
    "### `Example`"
   ]
  },
  {
   "cell_type": "code",
   "execution_count": 262,
   "metadata": {},
   "outputs": [
    {
     "data": {
      "text/plain": [
       "'\\nLet\\'s say we have a dataset of emails, where each email is labeled as either spam or not spam (ham).\\nWe want to build a Naive Bayes classifier to classify new emails as spam or ham based on their features.\\nThe features we will use for each email are the presence or absence of certain words.\\nFor simplicity, let\\'s say we only consider three words: \"money\", \"lottery\", and \"buy\".\\nWe count the number of times each word appears in each email and represent it as a binary feature \\n(1 if the word appears, 0 if it doesn\\'t).\\n\\nN_FEATURES = 3 (money , lottery , buy)\\nN_CLASSES = 2 (spam , ham)\\n'"
      ]
     },
     "execution_count": 262,
     "metadata": {},
     "output_type": "execute_result"
    }
   ],
   "source": [
    "'''\n",
    "Let's say we have a dataset of emails, where each email is labeled as either spam or not spam (ham).\n",
    "We want to build a Naive Bayes classifier to classify new emails as spam or ham based on their features.\n",
    "The features we will use for each email are the presence or absence of certain words.\n",
    "For simplicity, let's say we only consider three words: \"money\", \"lottery\", and \"buy\".\n",
    "We count the number of times each word appears in each email and represent it as a binary feature \n",
    "(1 if the word appears, 0 if it doesn't).\n",
    "\n",
    "N_FEATURES = 3 (money , lottery , buy)\n",
    "N_CLASSES = 2 (spam , ham)\n",
    "'''"
   ]
  },
  {
   "attachments": {},
   "cell_type": "markdown",
   "metadata": {},
   "source": [
    "| Email                                          | Money | Lottery | Buy | Spam/Ham |\n",
    "|------------------------------------------------|-------|---------|-----|----------|\n",
    "| Want to win the lottery? Buy our tickets now!  | 0     | 1       | 1   | Spam     |\n",
    "| Money back guarantee on all purchases!        | 1     | 0       | 1   | Ham      |\n",
    "| Get rich quick with our investment scheme!    | 1     | 0       | 0   | Spam     |\n",
    "| Buy one, get one free! Limited time offer!    | 0     | 0       | 1   | Ham      |\n",
    "| You have been selected for a cash prize!      | 1     | 1       | 0   | Spam     |\n",
    "| Congratulations! You have won a prize!        | 0     | 1       | 0   | Spam     |\n",
    "| Buy now and save 50% on all purchases!        | 0     | 0       | 1   | Ham      |\n",
    "| Our new product is now available for purchase | 0     | 0       | 1   | Ham      |"
   ]
  },
  {
   "cell_type": "code",
   "execution_count": 277,
   "metadata": {},
   "outputs": [
    {
     "name": "stdout",
     "output_type": "stream",
     "text": [
      "                                           Email  Money  Lottery  Buy Spam/Ham\n",
      "0  Want to win the lottery? Buy our tickets now!      0        1    1     Spam\n",
      "1         Money back guarantee on all purchases!      1        0    1      Ham\n",
      "2     Get rich quick with our investment scheme!      1        0    0     Spam\n",
      "3     Buy one, get one free! Limited time offer!      0        0    1      Ham\n",
      "4       You have been selected for a cash prize!      1        1    0     Spam\n",
      "5         Congratulations! You have won a prize!      0        1    0     Spam\n",
      "6         Buy now and save 50% on all purchases!      0        0    1      Ham\n",
      "7  Our new product is now available for purchase      0        1    1      Ham\n"
     ]
    }
   ],
   "source": [
    "data = [\n",
    "    {'Email': 'Want to win the lottery? Buy our tickets now!', 'Money': 0, 'Lottery': 1, 'Buy': 1, 'Spam/Ham': 'Spam'},\n",
    "    {'Email': 'Money back guarantee on all purchases!', 'Money': 1, 'Lottery': 0, 'Buy': 1, 'Spam/Ham': 'Ham'},\n",
    "    {'Email': 'Get rich quick with our investment scheme!', 'Money': 1, 'Lottery': 0, 'Buy': 0, 'Spam/Ham': 'Spam'},\n",
    "    {'Email': 'Buy one, get one free! Limited time offer!', 'Money': 0, 'Lottery': 0, 'Buy': 1, 'Spam/Ham': 'Ham'},\n",
    "    {'Email': 'You have been selected for a cash prize!', 'Money': 1, 'Lottery': 1, 'Buy': 0, 'Spam/Ham': 'Spam'},\n",
    "    {'Email': 'Congratulations! You have won a prize!', 'Money': 0, 'Lottery': 1, 'Buy': 0, 'Spam/Ham': 'Spam'},\n",
    "    {'Email': 'Buy now and save 50% on all purchases!', 'Money': 0, 'Lottery': 0, 'Buy': 1, 'Spam/Ham': 'Ham'},\n",
    "    {'Email': 'Our new product is now available for purchase', 'Money': 0, 'Lottery': 1, 'Buy': 1, 'Spam/Ham': 'Ham'}\n",
    "]\n",
    "\n",
    "# Convert data to pandas dataframe\n",
    "data = pd.DataFrame(data)\n",
    "print(data)"
   ]
  },
  {
   "cell_type": "code",
   "execution_count": 278,
   "metadata": {},
   "outputs": [
    {
     "name": "stdout",
     "output_type": "stream",
     "text": [
      "X = \n",
      " [[0 1 1]\n",
      " [1 0 1]\n",
      " [1 0 0]\n",
      " [0 0 1]\n",
      " [1 1 0]\n",
      " [0 1 0]\n",
      " [0 0 1]\n",
      " [0 1 1]]\n",
      "y = \n",
      " ['Spam' 'Ham' 'Spam' 'Ham' 'Spam' 'Spam' 'Ham' 'Ham']\n"
     ]
    }
   ],
   "source": [
    "# Extract features\n",
    "X = data.iloc[: , 1:4].values\n",
    "y = data.iloc[: , 4].values\n",
    "print(\"X = \\n\" , X)\n",
    "print(\"y = \\n\" , y)"
   ]
  },
  {
   "cell_type": "code",
   "execution_count": 279,
   "metadata": {},
   "outputs": [
    {
     "name": "stdout",
     "output_type": "stream",
     "text": [
      "Number of features =  3\n",
      "Number of classes =  2\n"
     ]
    }
   ],
   "source": [
    "n_Features = X.shape[1]\n",
    "print(\"Number of features = \" , n_Features)\n",
    "n_Classes = np.unique(y).shape[0]\n",
    "print(\"Number of classes = \" , n_Classes)\n"
   ]
  },
  {
   "cell_type": "code",
   "execution_count": 280,
   "metadata": {},
   "outputs": [
    {
     "name": "stdout",
     "output_type": "stream",
     "text": [
      "Prior probability of spam =  0.5\n",
      "Prior probability of ham =  0.5\n"
     ]
    }
   ],
   "source": [
    "# Prior probabilities\n",
    "prior_spam = prior_prob(y , 'Spam')\n",
    "print(\"Prior probability of spam = \" , prior_spam)\n",
    "prior_ham = prior_prob(y , 'Ham')\n",
    "print(\"Prior probability of ham = \" , prior_ham)"
   ]
  },
  {
   "cell_type": "code",
   "execution_count": 281,
   "metadata": {},
   "outputs": [
    {
     "name": "stdout",
     "output_type": "stream",
     "text": [
      "Ham\n",
      "[False  True False  True False False  True  True]\n",
      "Spam\n",
      "[ True False  True False  True  True False False]\n"
     ]
    },
    {
     "data": {
      "text/plain": [
       "{(0, 'Ham'): 0.25,\n",
       " (1, 'Ham'): 0.25,\n",
       " (2, 'Ham'): 1.0,\n",
       " (0, 'Spam'): 0.5,\n",
       " (1, 'Spam'): 0.75,\n",
       " (2, 'Spam'): 0.25}"
      ]
     },
     "execution_count": 281,
     "metadata": {},
     "output_type": "execute_result"
    }
   ],
   "source": [
    "# Conditional probabilities\n",
    "cond_prop(X , y, [0,1,2] , ['Money' , 'Lottery' , 'Buy'])"
   ]
  },
  {
   "cell_type": "code",
   "execution_count": 290,
   "metadata": {},
   "outputs": [
    {
     "name": "stdout",
     "output_type": "stream",
     "text": [
      "Ham\n",
      "[False  True False  True False False  True  True]\n",
      "Spam\n",
      "[ True False  True False  True  True False False]\n",
      "P(test_email | Spam) =  0.125\n",
      "P(test_email | Ham) =  0.25\n",
      "P(Spam) =  0.5\n",
      "P(Ham) =  0.5\n",
      "P(test_email) =  0.1875\n",
      "P(Spam | test_email) =  0.3333333333333333\n",
      "P(Ham | test_email) =  0.6666666666666666\n",
      "P(Spam | test_email) + P(Ham | test_email) =  1.0\n",
      "The email is ham\n"
     ]
    }
   ],
   "source": [
    "test_email = {'Money': 1, 'Lottery': 0, 'Buy': 1}\n",
    "# P(Spam | test_email)\n",
    "'''P(test_email | Spam) * P(Spam) / P(test_email)'''\n",
    "'''P(test_email | Spam)'''\n",
    "'''from conditional probabilities get P(Money | Spam) , P(Lottery | Spam) , P(Buy | Spam) '''\n",
    "'''P(test_email | Spam) = P(Money | Spam) * P(Lottery | Spam) * P(Buy | Spam)'''\n",
    "cond_prop_array = cond_prop(X , y, [0,1,2] , ['Money' , 'Lottery' , 'Buy']) \n",
    "P_test_email_Spam = cond_prop_array[(0 , 'Spam')] *  cond_prop_array[(2 , 'Spam')]\n",
    "print(\"P(test_email | Spam) = \" , P_test_email_Spam)\n",
    "'''P(test_email | Ham)'''\n",
    "'''from conditional probabilities get P(Money | Ham) , P(Lottery | Ham) , P(Buy | Ham) '''\n",
    "'''P(test_email | Ham) = P(Money | Ham) * P(Lottery | Ham) * P(Buy | Ham)'''\n",
    "P_test_email_Ham = cond_prop_array[(0 , 'Ham')] *  cond_prop_array[(2 , 'Ham')]\n",
    "print(\"P(test_email | Ham) = \" , P_test_email_Ham) \n",
    "\n",
    "'''P(Spam)'''\n",
    "P_Spam = prior_prob(y , 'Spam')\n",
    "print(\"P(Spam) = \" , P_Spam)\n",
    "'''P(Ham)'''\n",
    "P_Ham = prior_prob(y , 'Ham') \n",
    "print(\"P(Ham) = \" , P_Ham)\n",
    "\n",
    "'''P(test_email)'''\n",
    "'''P(test_email) = P(test_email | Spam) * P(Spam) + P(test_email | Ham) * P(Ham)'''\n",
    "P_test_email = P_test_email_Spam * P_Spam + P_test_email_Ham * P_Ham\n",
    "print(\"P(test_email) = \" , P_test_email)\n",
    "\n",
    "\n",
    "'''P(Spam | test_email)'''\n",
    "'''P(Spam | test_email) = P(test_email | Spam) * P(Spam) / P(test_email)'''\n",
    "P_Spam_test_email = P_test_email_Spam * P_Spam / P_test_email\n",
    "print(\"P(Spam | test_email) = \" , P_Spam_test_email)\n",
    "\n",
    "'''P(Ham | test_email)'''\n",
    "'''P(Ham | test_email) = P(test_email | Ham) * P(Ham) / P(test_email)'''\n",
    "P_Ham_test_email = P_test_email_Ham * P_Ham / P_test_email\n",
    "print(\"P(Ham | test_email) = \" , P_Ham_test_email)\n",
    "\n",
    "'''P(Spam | test_email) + P(Ham | test_email) = 1'''\n",
    "print(\"P(Spam | test_email) + P(Ham | test_email) = \" , P_Spam_test_email + P_Ham_test_email)\n",
    "\n",
    "'''return the class with the highest probability'''\n",
    "if P_Spam_test_email > P_Ham_test_email:\n",
    "    print(\"The email is Spam\")\n",
    "else:\n",
    "    print(\"The email is Ham\")"
   ]
  },
  {
   "attachments": {},
   "cell_type": "markdown",
   "metadata": {},
   "source": [
    "## - `Referances`\n",
    "---\n",
    "- [naive-bayes-classifier](https://towardsdatascience.com/naive-bayes-classifier-81d512f50a7c)"
   ]
  }
 ],
 "metadata": {
  "kernelspec": {
   "display_name": "base",
   "language": "python",
   "name": "python3"
  },
  "language_info": {
   "codemirror_mode": {
    "name": "ipython",
    "version": 3
   },
   "file_extension": ".py",
   "mimetype": "text/x-python",
   "name": "python",
   "nbconvert_exporter": "python",
   "pygments_lexer": "ipython3",
   "version": "3.8.8"
  },
  "orig_nbformat": 4
 },
 "nbformat": 4,
 "nbformat_minor": 2
}
